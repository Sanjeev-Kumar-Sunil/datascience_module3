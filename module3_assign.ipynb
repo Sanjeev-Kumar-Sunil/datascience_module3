{
 "cells": [
  {
   "cell_type": "code",
   "execution_count": 5,
   "metadata": {},
   "outputs": [
    {
     "name": "stdout",
     "output_type": "stream",
     "text": [
      "45\n"
     ]
    }
   ],
   "source": [
    "\"\"\"\n",
    "Assignment 1.1\n",
    "A simple program to implement custom myreduce() function which works exactly like built-in-function reduce().\n",
    "myreduce() function adds the numbers in the list given as input parameter to function\n",
    "\"\"\"\n",
    "lst=[1,2,3,4,5,6,7,8,9] # A list which contains some predefined elements\n",
    "def func(a,b): # A custom function which adds two numbers passed as it's arguments\n",
    "    return a+b\n",
    "def myreduce(func1,lst1):# custom function same as built-in-function reduce()\n",
    "    sum=0\n",
    "    for item in lst1: # iterating through iterators and calling func1() in each iteration\n",
    "        sum=func1(sum,item) # passing one element of list as parameter each time func1() is called\n",
    "    print(sum) # prints the total sum of list\n",
    "    \n",
    "myreduce(func,lst)  # calling myreduce() from this point with 2 parameters function name and a list   \n",
    "    \n",
    "    "
   ]
  },
  {
   "cell_type": "code",
   "execution_count": 7,
   "metadata": {},
   "outputs": [
    {
     "name": "stdout",
     "output_type": "stream",
     "text": [
      "[2, 4, 6, 8, 10, 12]\n"
     ]
    }
   ],
   "source": [
    "\"\"\"\n",
    "Assignment 1.2\n",
    "A simple program to implement custom myfilter() function which works exactly like built-in-function filter().\n",
    "myfilter() function takes a list of numbers as input and returns a list of even numbers\n",
    "\"\"\"\n",
    "lst=[1,2,3,4,5,6,7,8,9,10,11,12]# list with some predefined elements\n",
    "lst2=[] # an empty list with no elements\n",
    "def func(a): # function func() takes a number as input\n",
    "    return True if a%2==0 else False # returns true  if number is even else false\n",
    "def myfilter(func,lst):# custom myfilter() function which works same as filter() function \n",
    "    sum=0\n",
    "    for item in lst: # iterating through lst iterator and calling func() in each iteration\n",
    "        if func(item): #checks whether if return value of func() is true or false\n",
    "            lst2.append(item) # appends item to list if func() returns true\n",
    "    print(lst2) # print the list of even numbers\n",
    "myfilter(func,lst) # Calling myfilter() function passing function func() and list lst as parameter input"
   ]
  },
  {
   "cell_type": "code",
   "execution_count": 1,
   "metadata": {},
   "outputs": [
    {
     "name": "stdout",
     "output_type": "stream",
     "text": [
      "['A', 'C', 'A', 'D', 'G', 'I', 'L', 'D']\n",
      "....................................................................................................\n",
      "['x', 'xx', 'xxx', 'xxxx', 'y', 'yy', 'yyy', 'yyyy', 'z', 'zz', 'zzz', 'zzzz']\n",
      "....................................................................................................\n",
      "['x', 'y', 'z', 'xx', 'yy', 'zz', 'xx', 'yy', 'zz', 'xxxx', 'yyyy', 'zzzz']\n",
      "....................................................................................................\n",
      "[[2], [3], [4], [3], [4], [5], [4], [5], [6]]\n",
      "....................................................................................................\n",
      "[[2, 3, 4, 5], [3, 4, 5, 6], [4, 5, 6, 7], [5, 6, 7, 8]]\n",
      "....................................................................................................\n",
      "[(1, 1), (2, 1), (3, 1), (1, 2), (2, 2), (3, 2), (1, 3), (2, 3), (3, 3)]\n",
      "....................................................................................................\n"
     ]
    }
   ],
   "source": [
    "\"\"\"\n",
    "Assignment 2\n",
    "A simple program to implement list comprehension to produce following outputs\n",
    "\"\"\"\n",
    "\n",
    "# to produce output ['A', 'C', 'A', 'D', 'G', 'I', 'L', 'D']\n",
    "str1=\"ACADGILD\" # string with initial value \"ACADGILD\"\n",
    "lst1=[item for item in str1] #list comprehension iterating through string and converting into list\n",
    "print(lst1) # printing the list\n",
    "print(\".\"*100) # simply for clear output\n",
    "\n",
    "\n",
    "# to produce output ['x', 'xx', 'xxx', 'xxxx', 'y', 'yy', 'yyy', 'yyyy', 'z', 'zz', 'zzz', 'zzzz']\n",
    "str2=\"xyz\" # string with initial value \"xyz\"\n",
    "i=1\n",
    "lst2=[item*i  for item in str2 for i in range(1,5)]  #list comprehension iterating through string and converting into list where item*i means repeating string item i times           \n",
    "print(lst2) # printing the list\n",
    "print(\".\"*100)# simply for clear output\n",
    "\n",
    "\n",
    "# to produce output ['x', 'y', 'z', 'xx', 'yy', 'zz', 'xx', 'yy', 'zz', 'xxxx', 'yyyy', 'zzzz']\n",
    "str3=\"xyz\" # string with initial value \"xyz\"\n",
    "prev=[1,2,2,4] # string with initial predefined value useful for printing a character multiple times while list comprehension\n",
    "lst3=[item*j for j in prev for item in str3]  #list comprehension iterating through string and multiplying each char to the corresponding index of the list elements \n",
    "print(lst3) # printing the list\n",
    "print(\".\"*100)# simply for clear output\n",
    "\n",
    "\n",
    "# to produce output [[2], [3], [4], [3], [4], [5], [4], [5], [6]]\n",
    "data=[2,3,4,3,4,5,4,5,6] # list with some predefined data according to output\n",
    "lst4=[[item] for item in data] #list comprehension iterating through the list and putting each element in a list\n",
    "print(lst4) # printing the list\n",
    "print(\".\"*100) # simply for clear output\n",
    "\n",
    "\n",
    "# to produce output [[2, 3, 4, 5], [3, 4, 5, 6], [4, 5, 6, 7], [5, 6, 7, 8]]\n",
    "lst4= [[i,i+1,i+2,i+3] for i in range(2,6)] # list comprehension in which range(2,6) generate number 2,3,4,5 and for each elemnt print a list consisting of 4 elements\n",
    "print(lst4) # printing the list4\n",
    "print(\".\"*100) # simply for decoration\n",
    "\n",
    "\n",
    "# to produce output [(1, 1), (2, 1), (3, 1), (1, 2), (2, 2), (3, 2), (1, 3), (2, 3), (3, 3)]\n",
    "data=[2,3,4,3,4,5,4,5,6]\n",
    "lst5=[(j,i) for i in range(1,4) for j in range(1,4)] #list comprehension using nested for loop printing elements pairwise in a tuple\n",
    "print(lst5) # printing the list5\n",
    "print(\".\"*100) # simply for decoration"
   ]
  },
  {
   "cell_type": "code",
   "execution_count": 8,
   "metadata": {},
   "outputs": [
    {
     "name": "stdout",
     "output_type": "stream",
     "text": [
      "The longest word is aaaaaaaaaaaaaaaaaaaaaa\n"
     ]
    }
   ],
   "source": [
    "\"\"\"\n",
    "Assignment 3\n",
    "A simple program to implement a function longestword() which takes a list of words and returns the longest one\n",
    "\"\"\"\n",
    "lst=[\"abc\",\"abfdha\",\"ahkhfadshl\",\"hd\",\"djhd\",\"a\",\"aaaaaaaaaaaaaaaaaaaaaa\"] # a list with some random stings as its elements\n",
    "def longestword(lst):\n",
    "    l_len=0 # assume longest word is of length 0 initially\n",
    "    l_word=\"\" #assume longest word is null initially\n",
    "    for item in lst: # iterating through each strings in the list\n",
    "        if len(item)>l_len: #condition checking if length of string is grater than our assumed one\n",
    "            l_len=len(item) #if condition is true the current string length will be new l_len\n",
    "            l_word=item # if condition is true the current string will be new l_word\n",
    "    print(\"The longest word is {}\".format(l_word))  #printing longest word\n",
    "longestword(lst) # calling function longestword() with list as its input parameter   \n",
    "        "
   ]
  }
 ],
 "metadata": {
  "kernelspec": {
   "display_name": "Python 3",
   "language": "python",
   "name": "python3"
  },
  "language_info": {
   "codemirror_mode": {
    "name": "ipython",
    "version": 3
   },
   "file_extension": ".py",
   "mimetype": "text/x-python",
   "name": "python",
   "nbconvert_exporter": "python",
   "pygments_lexer": "ipython3",
   "version": "3.6.2"
  }
 },
 "nbformat": 4,
 "nbformat_minor": 2
}
